{
 "cells": [
  {
   "cell_type": "markdown",
   "id": "6f2481fe",
   "metadata": {},
   "source": [
    "1. Escribe una función que reciba una cadena de texto como parámetro y devuelva un diccionario con las frecuencias de cada letra en la cadena. Los espacios no deben ser considerados.\n"
   ]
  },
  {
   "cell_type": "code",
   "execution_count": 200,
   "id": "18e32f44",
   "metadata": {},
   "outputs": [
    {
     "name": "stdout",
     "output_type": "stream",
     "text": [
      "{'e': 10, 's': 5, 't': 3, 'o': 11, 'y': 1, 'r': 3, 'g': 2, 'u': 2, 'l': 3, 'd': 3, 'j': 1, 'c': 4, 'i': 3, ',': 1, 'm': 1, 'h': 2, 'a': 2, 'p': 1, 'n': 1, '.': 1}\n"
     ]
    }
   ],
   "source": [
    "def freqLetter(dataInput: str) -> dict:\n",
    "    dataInput = dataInput.replace(\" \",\"\").lower() \n",
    "    \n",
    "    newDict = {}\n",
    "    for index in dataInput:\n",
    "          newDict[index] = dataInput.count(index)\n",
    "    return newDict \n",
    "\n",
    "textoEntregar = 'Estoy orgulloso de este ejercicio, me ha costado pero lo he conseguido.'\n",
    "\n",
    "diccionario = freqLetter(textoEntregar)\n",
    "print(diccionario)"
   ]
  },
  {
   "cell_type": "markdown",
   "id": "3dae2141",
   "metadata": {},
   "source": [
    "2. Dada una lista de números, obtén una nueva lista con el doble de cada valor. Usa la función map()."
   ]
  },
  {
   "cell_type": "code",
   "execution_count": 201,
   "id": "5d3a2f42",
   "metadata": {},
   "outputs": [
    {
     "name": "stdout",
     "output_type": "stream",
     "text": [
      "[0, 2, 2, 32, 32, 2, 1, 1]\n",
      "[0, 4, 4, 64, 64, 4, 2, 2]\n"
     ]
    }
   ],
   "source": [
    "lista = [0,2,2,32,32,2,1,1]\n",
    "newLista = list(map(lambda numero: numero * 2, lista))\n",
    "\n",
    "print(lista)\n",
    "print(newLista)"
   ]
  },
  {
   "cell_type": "markdown",
   "id": "5cfeb240",
   "metadata": {},
   "source": [
    "3. Escribe una función que tome una lista de palabras y una palabra objetivo como parámetros. La función debe devolver una lista con todas las palabras de la lista original que contengan la palabra objetivo."
   ]
  },
  {
   "cell_type": "code",
   "execution_count": 202,
   "id": "adddb178",
   "metadata": {},
   "outputs": [
    {
     "name": "stdout",
     "output_type": "stream",
     "text": [
      "['pera', 'naranja', 'frambuesa', 'moras']\n"
     ]
    }
   ],
   "source": [
    "listaPalabras = ['manzana', 'pera', 'uva', 'naranja', 'plátano', 'fresa', 'kiwi', 'mango', 'piña', 'melocotón', 'cereza', 'limón', 'sandía', 'melón', 'papaya', 'pomelo', 'arándano', 'frambuesa', 'moras', 'albaricoque']\n",
    "palabraObjetivo = 'ra'\n",
    "\n",
    "def busqPalabra(pObj: str, lista: list) -> list:\n",
    "    \n",
    "    listaPalabrasIguales = []\n",
    "    for index in lista:\n",
    "        \n",
    "        if str(index).__contains__(pObj):\n",
    "            listaPalabrasIguales.append(str(index))\n",
    "    return listaPalabrasIguales\n",
    "\n",
    "listaObjetivo = busqPalabra(palabraObjetivo, listaPalabras)\n",
    "print(listaObjetivo)"
   ]
  },
  {
   "cell_type": "markdown",
   "id": "7085e9f5",
   "metadata": {},
   "source": [
    "4. Genera una función que calcule la diferencia entre los valores de dos listas. Usa la función map()."
   ]
  },
  {
   "cell_type": "code",
   "execution_count": 203,
   "id": "7dd41c1c",
   "metadata": {},
   "outputs": [
    {
     "name": "stdout",
     "output_type": "stream",
     "text": [
      "[-9, -41, -115, 4, -84, -128, 24, -36, 18, -10, 18, -20, -28, 59, -99, 78, -412, 93, 36, 80]\n"
     ]
    }
   ],
   "source": [
    "listaA = [1, 4, 8, 12, 15, 22, 27, 31, 39, 45, 50, 58, 63, 70, 76, 82, 88, 94, 99, 103]\n",
    "listaB = [10, 45, 123, 8, 99, 150, 3, 67, 21, 55, 32, 78, 91, 11, 175, 4, 500, 1, 63, 23]\n",
    "\n",
    "def difListas(listaPrimera: list, listaSegunda: list) -> list:\n",
    "    return list(map(lambda a, b: a - b , listaPrimera, listaSegunda))\n",
    "\n",
    "diferValue = difListas(listaA, listaB)\n",
    "print (diferValue)"
   ]
  },
  {
   "cell_type": "markdown",
   "id": "66a7eff2",
   "metadata": {},
   "source": [
    "5. Escribe una función que tome una lista de números como parámetro y un valor opcional nota_aprobado (por defecto 5). La función debe calcular la media de los números en la lista y determinar si la media es mayor o igual que nota_aprobado. Si es así, el estado será \"aprobado\"; de lo contrario, \"suspenso\". La función debe devolver una tupla que contenga la media y el estado."
   ]
  },
  {
   "cell_type": "code",
   "execution_count": 10,
   "id": "0b836e30",
   "metadata": {},
   "outputs": [
    {
     "name": "stdout",
     "output_type": "stream",
     "text": [
      "(6.24, 'Aprobado')\n",
      "(4.9399999999999995, 'Suspendido')\n"
     ]
    }
   ],
   "source": [
    "\n",
    "def checkNotas(listaNotas: list, notaLimite: float) -> tuple:\n",
    "    mediaNota = sum(listaNotas)/len(listaNotas)\n",
    "    if mediaNota>=notaLimite:\n",
    "        return (mediaNota,\"Aprobado\")\n",
    "    else:\n",
    "        return (mediaNota,\"Suspendido\")\n",
    "\n",
    "notasLista = [7.5, 6.0, 9.0, 4.5, 8.0, 5.0, 10.0, 3.5, 6.5, 7.0, 2.0, 9.5, 8.5, 4.0, 5.5, 6.8, 7.2, 3.0, 9.8, 1.5]\n",
    "notaAprobado = 5.0\n",
    "\n",
    "resultado = checkNotas(notasLista, notaAprobado)\n",
    "print (resultado)\n",
    "\n",
    "\n",
    "notasLista = [2.5, 2.0, 2.0, 4.5, 8.0, 5.0, 6.0, 3.5, 6.5, 7.0, 2.0, 3.5, 8.5, 4.0, 5.5, 6.8, 7.2, 3.0, 9.8, 1.5]\n",
    "notaAprobado = 5.0\n",
    "\n",
    "resultado = checkNotas(notasLista, notaAprobado)\n",
    "print (resultado)"
   ]
  },
  {
   "cell_type": "markdown",
   "id": "5b0c312c",
   "metadata": {},
   "source": [
    "6. Escribe una función que calcule el factorial de un número de manera recursiva."
   ]
  },
  {
   "cell_type": "code",
   "execution_count": 204,
   "id": "2b1c977e",
   "metadata": {},
   "outputs": [
    {
     "name": "stdout",
     "output_type": "stream",
     "text": [
      "3628800\n",
      "3628800\n"
     ]
    }
   ],
   "source": [
    "#Opción #1 - Esta la hice yo, pero no era recursiva. Cómo no sabía que era el factorial de un número, ni una manera recursiva, pregunté a Chat.\n",
    "def calcFactorial (numInput: int) -> int:\n",
    "    totalValue = numInput\n",
    "\n",
    "    for index in range(numInput-1,0, -1):\n",
    "        totalValue *= index   \n",
    "       \n",
    "    return totalValue\n",
    "\n",
    "#Opción #2 - Me ayudé de ChatGPT para la Opción 2, es curiosa, pero la entiendo. La he mejorado a lo de Chat sin su ayuda, porque si ponía 0 daba error.\n",
    "def calcFactorialRecursivo (numInput: int) -> int:\n",
    "    if numInput == 1:\n",
    "        return 1\n",
    "    elif numInput == 0:\n",
    "        return 0\n",
    "    else:\n",
    "        return numInput * calcFactorialRecursivo(numInput-1)\n",
    "      \n",
    "\n",
    "numFactorial = 10\n",
    "valueData = calcFactorial(numFactorial)\n",
    "print(valueData)\n",
    "\n",
    "valueData2 = calcFactorialRecursivo(numFactorial)\n",
    "print(valueData2)\n"
   ]
  },
  {
   "cell_type": "markdown",
   "id": "2bea770d",
   "metadata": {},
   "source": [
    "7. Genera una función que convierta una lista de tuplas a una lista de strings. Usa la función map()."
   ]
  },
  {
   "cell_type": "code",
   "execution_count": 14,
   "id": "de801634",
   "metadata": {},
   "outputs": [
    {
     "name": "stdout",
     "output_type": "stream",
     "text": [
      "['Dani', 8.5, 'Aprobado']\n"
     ]
    }
   ],
   "source": [
    "def tuplaToList(listTupla: tuple) -> list:\n",
    "    return list(map(lambda a:a, listTupla))\n",
    "\n",
    "userPrometeo = (\"Dani\", 8.5, \"Aprobado\")\n",
    "\n",
    "print(tuplaToList(userPrometeo))"
   ]
  },
  {
   "cell_type": "markdown",
   "id": "9abcb0b7",
   "metadata": {},
   "source": [
    "8. Escribe un programa que pida al usuario dos números e intente dividirlos. Si el usuario ingresa un valor no numérico o intenta dividir por cero, maneja esas excepciones de manera adecuada y muestra un mensaje indicando si la división fue exitosa o no."
   ]
  },
  {
   "cell_type": "code",
   "execution_count": 32,
   "id": "8963882c",
   "metadata": {},
   "outputs": [
    {
     "name": "stdout",
     "output_type": "stream",
     "text": [
      "Error: Tipo de dato no compatible:  could not convert string to float: '2d'\n",
      "Finalizando el proceso...\n"
     ]
    }
   ],
   "source": [
    "try:\n",
    "    numA = float(input(\"Introduce el primer número:\"))\n",
    "    numB = float(input(\"Introduce el segundo número:\"))\n",
    "    resultado = numA / numB\n",
    "except ZeroDivisionError as e:\n",
    "    print(\"Error: División por cero: \", e)\n",
    "except ValueError as e:\n",
    "    print(\"Error: Tipo de dato no compatible: \", e)\n",
    "except Exception as e:\n",
    "    print(\"Ocurrió un error inesperado: \", e)\n",
    "else:\n",
    "    print(\"El resultado ha sido:\",resultado)\n",
    "finally:\n",
    "    print(\"Finalizando el proceso...\")\n"
   ]
  },
  {
   "cell_type": "markdown",
   "id": "3dc4fbc0",
   "metadata": {},
   "source": [
    "9. Escribe una función que tome una lista de nombres de mascotas como parámetro y devuelva una nueva lista excluyendo ciertas mascotas prohibidas en España. La lista de mascotas a excluir es [\"Mapache\", \"Tigre\", \"Serpiente Pitón\", \"Cocodrilo\", \"Oso\"]. Usa la función filter()."
   ]
  },
  {
   "cell_type": "code",
   "execution_count": 20,
   "id": "85457630",
   "metadata": {},
   "outputs": [
    {
     "name": "stdout",
     "output_type": "stream",
     "text": [
      "['Elefante', 'Jirafa', 'León', 'Lobo', 'Zorro', 'Hipopótamo', 'Rin']\n"
     ]
    }
   ],
   "source": [
    "def fronteraAnimales(listaAnimal: list, listaExcl: list) -> list:\n",
    "    return list(filter(lambda a: a not in listaExcl, listaAnimal))\n",
    "\n",
    "animales = [\"Mapache\", \"Tigre\", \"Serpiente Pitón\", \"Cocodrilo\", \"Oso\", \"Elefante\", \"Jirafa\", \"León\", \"Lobo\", \"Zorro\", \"Hipopótamo\", \"Rin\"]\n",
    "animalesExcluidos = [\"Mapache\", \"Tigre\", \"Serpiente Pitón\", \"Cocodrilo\", \"Oso\"]\n",
    "\n",
    "listaFinal = fronteraAnimales(animales, animalesExcluidos)\n",
    "print(listaFinal)"
   ]
  },
  {
   "cell_type": "markdown",
   "id": "ee7aec39",
   "metadata": {},
   "source": [
    "10. Escribe una función que reciba una lista de números y calcule su promedio. Si la lista está vacía, lanza una excepción personalizada y maneja el error adecuadamente."
   ]
  },
  {
   "cell_type": "code",
   "execution_count": null,
   "id": "67d6aa6f",
   "metadata": {},
   "outputs": [
    {
     "name": "stdout",
     "output_type": "stream",
     "text": [
      "489.4736842105263\n",
      "La lista está vacía.\n"
     ]
    }
   ],
   "source": [
    "def promedioCalc(listaInput: list):\n",
    "    if len(listaInput) == 0:\n",
    "        return  \"La lista está vacía.\"\n",
    "    else:\n",
    "        return sum(listaInput)/len(listaInput) \n",
    "\n",
    "listaDatos=[23,2,123,12,4,512,4123,12,3,512,4,123,123,2,232,3,232,3132,123]\n",
    "print(promedioCalc(listaDatos))\n",
    "\n",
    "listaDatos=[]\n",
    "print(promedioCalc(listaDatos))"
   ]
  },
  {
   "cell_type": "markdown",
   "id": "3a86c7ea",
   "metadata": {},
   "source": [
    "11. Escribe un programa que pida al usuario que introduzca su edad. Si el usuario ingresa un valor no numérico o un valor fuera del rango esperado (por ejemplo, menor que 0 o mayor que 120), maneja las excepciones adecuadamente."
   ]
  },
  {
   "cell_type": "code",
   "execution_count": 207,
   "id": "1fbd3a81",
   "metadata": {},
   "outputs": [
    {
     "name": "stdout",
     "output_type": "stream",
     "text": [
      "El valor introducido es correcto.\n"
     ]
    }
   ],
   "source": [
    "edadUsuario = input(\"Introduce tu edad:\")\n",
    "\n",
    "if edadUsuario.isdecimal():\n",
    "    if ( int(edadUsuario) < 0 ) or ( int(edadUsuario) > 120 ):\n",
    "        print(\"El valor introducido está fuera de los limites.\")\n",
    "    else:\n",
    "        print(\"El valor introducido es correcto.\")\n",
    "else:\n",
    "    print(\"El valor introducido no es un valor decimal.\")"
   ]
  },
  {
   "cell_type": "markdown",
   "id": "0b7c4129",
   "metadata": {},
   "source": [
    "12. Genera una función que, al recibir una frase, devuelva una lista con la longitud de cada palabra. Usa la función map()."
   ]
  },
  {
   "cell_type": "code",
   "execution_count": 208,
   "id": "9ece77a6",
   "metadata": {},
   "outputs": [
    {
     "name": "stdout",
     "output_type": "stream",
     "text": [
      "[6, 2, 3, 7, 5, 7, 2, 2, 6, 5, 2, 3, 8, 1, 4, 9, 2, 2, 10, 2, 4, 2, 10]\n"
     ]
    }
   ],
   "source": [
    "def longEachWord(frase):\n",
    "    frase = frase.replace(\",\", \"\").replace(\".\", \"\").replace(\"!\", \"\").replace(\"¡\",\"\").replace(\"?\",\"\").replace(\"¿\",\"\")  #Eliminamos todos los simbolos no deseados que se me han ocurrido\n",
    "    palabras = frase.split(\" \") #Creamos una lista con todas las palabras\n",
    "    return list(map(len, palabras))\n",
    "\n",
    "textFrase = \"Pepito de los palotes, comio piedras en un trigal, lloró en las esquinas, y este ejercicio me ha complicado un poco la existencia\"\n",
    "\n",
    "print(longEachWord(textFrase))\n",
    "\n"
   ]
  },
  {
   "cell_type": "markdown",
   "id": "505ce7dc",
   "metadata": {},
   "source": [
    "13. Genera una función que, para un conjunto de caracteres, devuelva una lista de tuplas con cada letra en mayúsculas y minúsculas. Las letras no pueden estar repetidas. Usa la función map()."
   ]
  },
  {
   "cell_type": "code",
   "execution_count": 46,
   "id": "eb55edbb",
   "metadata": {},
   "outputs": [
    {
     "name": "stdout",
     "output_type": "stream",
     "text": [
      "(('a', 'A'), ('c', 'C'), ('e', 'E'), ('m', 'M'), ('n', 'N'), ('r', 'R'))\n"
     ]
    }
   ],
   "source": [
    "conjCaracteres = \"macarena\"\n",
    "\n",
    "def tupliPower(palabra: str) -> tuple:\n",
    "    letrasNoRepetidas = sorted(set(palabra))\n",
    "    return tuple(map(lambda a: (a.lower(), a.upper()) ,letrasNoRepetidas))\n",
    "\n",
    "prueba = tupliPower(conjCaracteres)\n",
    "print(prueba)"
   ]
  },
  {
   "cell_type": "markdown",
   "id": "6129e0a8",
   "metadata": {},
   "source": [
    "14. Crea una función que retorne las palabras de una lista que comiencen con una letra en específico. Usa la función filter()."
   ]
  },
  {
   "cell_type": "code",
   "execution_count": 209,
   "id": "c958c03a",
   "metadata": {},
   "outputs": [
    {
     "name": "stdout",
     "output_type": "stream",
     "text": [
      "['luna', 'lluvia']\n"
     ]
    }
   ],
   "source": [
    "def palabrasEmpiezanPor(listaPalabras: list, letra: str) -> list:\n",
    "    letraLower = letra.lower() \n",
    "    listaLower = list(map(lambda a: a.lower() , listaPalabras))\n",
    "    return list(filter(lambda a: a[:1] == letraLower, listaLower))\n",
    "\n",
    "liPalabra = [\"Sol\", \"Luna\", \"Mar\", \"Montaña\", \"Río\", \"Bosque\", \"Ciudad\", \"Nube\", \"Trueno\", \"Viento\", \"Tierra\", \"Estrella\", \"Cielo\", \"fuego\", \"lluvia\", \"nieve\", \"arena\", \"flor\", \"piedra\", \"hoja\"]\n",
    "letra = \"l\"\n",
    "\n",
    "print(palabrasEmpiezanPor(liPalabra, letra))"
   ]
  },
  {
   "cell_type": "markdown",
   "id": "60efc4e7",
   "metadata": {},
   "source": [
    "15. Crea una función lambda que sume 3 a cada número de una lista dada."
   ]
  },
  {
   "cell_type": "code",
   "execution_count": 210,
   "id": "c56061f1",
   "metadata": {},
   "outputs": [
    {
     "name": "stdout",
     "output_type": "stream",
     "text": [
      "[0, 12, 23, 213, 2442, 23, 2, 23, 13]\n",
      "[3, 15, 26, 216, 2445, 26, 5, 26, 16]\n"
     ]
    }
   ],
   "source": [
    "lista = [0,12,23,213,2442,23,2,23,13]\n",
    "newLista = list(map(lambda numeros:numeros + 3,lista))\n",
    "\n",
    "print(lista)\n",
    "print(newLista)"
   ]
  },
  {
   "cell_type": "markdown",
   "id": "4448f998",
   "metadata": {},
   "source": [
    "16. Escribe una función que tome una cadena de texto y un número entero n como parámetros y devuelva una lista de todas las palabras que sean más largas que n. Usa la función filter()."
   ]
  },
  {
   "cell_type": "code",
   "execution_count": null,
   "id": "858872aa",
   "metadata": {},
   "outputs": [
    {
     "name": "stdout",
     "output_type": "stream",
     "text": [
      "['cruzaba', 'carretera', 'atropelló', 'Antonio']\n"
     ]
    }
   ],
   "source": [
    "def filtroXLong(frase: str, numQ: int) -> list:\n",
    "    palabras = frase.replace(\",\",\"\").replace(\".\", \" \").split()\n",
    "    return list(filter(lambda a: len(a)>numQ,palabras))\n",
    "\n",
    "fraseDestripar = \"Cuando un gusano cruzaba la carretera, va y lo atropelló Antonio R.\"\n",
    "\n",
    "numFiltro = 6\n",
    "listaResult = filtroXLong(fraseDestripar, numFiltro)\n",
    "\n",
    "print(listaResult)"
   ]
  },
  {
   "cell_type": "markdown",
   "id": "fd2e1da5",
   "metadata": {},
   "source": [
    "17. Crea una función que tome una lista de dígitos y devuelva el número . Por ejemplo, [5,7,2] corresponde al número 572. Usa la función reduce()."
   ]
  },
  {
   "cell_type": "code",
   "execution_count": 222,
   "id": "5754a049",
   "metadata": {},
   "outputs": [
    {
     "name": "stdout",
     "output_type": "stream",
     "text": [
      "572213\n"
     ]
    }
   ],
   "source": [
    "from functools import reduce\n",
    "\n",
    "def listToNum(inputList:list) -> int:\n",
    "    return reduce(lambda a, b: a*10 + b, inputList)\n",
    "\n",
    "itemsList = [5,7,2,2,1,3]\n",
    "\n",
    "print(listToNum(itemsList))"
   ]
  },
  {
   "cell_type": "markdown",
   "id": "4ca89cc8",
   "metadata": {},
   "source": [
    "18. Escribe un programa en Python que cree una lista de diccionarios con información de estudiantes (nombre, edad, calificación) y use filter para extraer a los estudiantes con una calificación mayor o igual a 90."
   ]
  },
  {
   "cell_type": "code",
   "execution_count": 108,
   "id": "a5565e1d",
   "metadata": {},
   "outputs": [
    {
     "name": "stdout",
     "output_type": "stream",
     "text": [
      "[{'nombre': 'Lucía', 'edad': 22, 'calificacion': 91}, {'nombre': 'Ana', 'edad': 21, 'calificacion': 95}, {'nombre': 'Marta', 'edad': 23, 'calificacion': 90}]\n"
     ]
    }
   ],
   "source": [
    "estudiantes = [\n",
    "    {\"nombre\": \"Dani\", \"edad\": 20, \"calificacion\": 85},\n",
    "    {\"nombre\": \"Lucía\", \"edad\": 22, \"calificacion\": 91},\n",
    "    {\"nombre\": \"Carlos\", \"edad\": 19, \"calificacion\": 74},\n",
    "    {\"nombre\": \"Ana\", \"edad\": 21, \"calificacion\": 95},\n",
    "    {\"nombre\": \"Marta\", \"edad\": 23, \"calificacion\": 90}\n",
    "]\n",
    "\n",
    "estudiantesCalificados = list(filter(lambda a: a[\"calificacion\"] >= 90, estudiantes))\n",
    "\n",
    "print (estudiantesCalificados)"
   ]
  },
  {
   "cell_type": "markdown",
   "id": "fa710d59",
   "metadata": {},
   "source": [
    "19. Crea una función lambda que filtre los números impares de una lista dada."
   ]
  },
  {
   "cell_type": "code",
   "execution_count": 211,
   "id": "269c7f96",
   "metadata": {},
   "outputs": [
    {
     "name": "stdout",
     "output_type": "stream",
     "text": [
      "[0, 1, 2, 3, 4, 5, 6, 7, 8, 9, 10, 11]\n",
      "[1, 3, 5, 7, 9, 11]\n"
     ]
    }
   ],
   "source": [
    "lista = [0,1,2,3,4,5,6,7,8,9,10,11]\n",
    "newLista = list(filter(lambda numero: numero%2 != 0, lista))\n",
    "\n",
    "print(lista)\n",
    "print(newLista)"
   ]
  },
  {
   "cell_type": "markdown",
   "id": "a880c2bf",
   "metadata": {},
   "source": [
    "20. Para una lista con elementos de tipo integer y string, obtén una nueva lista solo con los valores int. Usa la función filter()."
   ]
  },
  {
   "cell_type": "code",
   "execution_count": 71,
   "id": "5642f39b",
   "metadata": {},
   "outputs": [
    {
     "name": "stdout",
     "output_type": "stream",
     "text": [
      "[1, 3.5, 42, 7, 99, 0, 23, 5.7, 88, 12]\n"
     ]
    }
   ],
   "source": [
    "mixLista = [1, \"hola\", 3.5, \"mundo\", 42, \"python\", 7, \"día\", 99, \"sol\", 0, \"noche\", 23, \"GPTín\", 5.7, \"café\", 88, \"teclado\", 12, \"ratón\"]\n",
    "\n",
    "nuevalista = list(filter(lambda a: type(a) != str, mixLista))\n",
    "\n",
    "print(nuevalista)"
   ]
  },
  {
   "cell_type": "markdown",
   "id": "7abd80cd",
   "metadata": {},
   "source": [
    "21. Crea una función que calcule el cubo de un número dado mediante una función lambda."
   ]
  },
  {
   "cell_type": "code",
   "execution_count": 45,
   "id": "1494753a",
   "metadata": {},
   "outputs": [
    {
     "name": "stdout",
     "output_type": "stream",
     "text": [
      "27.0\n"
     ]
    }
   ],
   "source": [
    "def calcCube(numDado: float) -> float:\n",
    "    return (lambda a: a**3)(numDado)\n",
    "\n",
    "numCubo = 3.0\n",
    "resultado = calcCube(numCubo)\n",
    "\n",
    "print(resultado)"
   ]
  },
  {
   "cell_type": "markdown",
   "id": "22a737e0",
   "metadata": {},
   "source": [
    "22. Dada una lista numérica, obtén el producto total de los valores. Usa la función reduce()."
   ]
  },
  {
   "cell_type": "code",
   "execution_count": 101,
   "id": "42264468",
   "metadata": {},
   "outputs": [
    {
     "name": "stdout",
     "output_type": "stream",
     "text": [
      "2520\n"
     ]
    }
   ],
   "source": [
    "nums = [4, 7, 2, 9, 5]\n",
    "\n",
    "prodTotal = reduce(lambda a, b: a*b, nums)\n",
    "print(prodTotal)"
   ]
  },
  {
   "cell_type": "markdown",
   "id": "78ef2e20",
   "metadata": {},
   "source": [
    "23. Concatena una lista de palabras. Usa la función reduce()."
   ]
  },
  {
   "cell_type": "code",
   "execution_count": 115,
   "id": "a48c712c",
   "metadata": {},
   "outputs": [
    {
     "name": "stdout",
     "output_type": "stream",
     "text": [
      "Estoy muy cansado del lambda de las narices.\n"
     ]
    }
   ],
   "source": [
    "from functools import reduce\n",
    "\n",
    "def concatList(inputList:list) -> str:\n",
    "    return reduce(lambda a, b: a + \" \" + b, inputList)\n",
    "\n",
    "palabras = [\"Estoy\", \"muy\", \"cansado\", \"del\", \"lambda\", \"de\", \"las\", \"narices.\"]\n",
    "\n",
    "\n",
    "print(concatList(palabras))"
   ]
  },
  {
   "cell_type": "markdown",
   "id": "332f5ded",
   "metadata": {},
   "source": [
    "24. Calcula la diferencia total en los valores de una lista. Usa la función reduce()."
   ]
  },
  {
   "cell_type": "code",
   "execution_count": 100,
   "id": "061bf9d6",
   "metadata": {},
   "outputs": [
    {
     "name": "stdout",
     "output_type": "stream",
     "text": [
      "410\n"
     ]
    }
   ],
   "source": [
    "from functools import reduce  #Aquí me he orientado de la IA\n",
    "\n",
    "numLista = [5, 12, 8, 3, 15, 7, 9, 11, 2, 6, 14, 4, 10, 1, 13, 16, 18, 20, 17, 19]\n",
    "\n",
    "sumNeg = reduce(lambda a, b: a-b, numLista)\n",
    "sumPos = reduce(lambda a, b: a+b, numLista)\n",
    "\n",
    "difTotal = sumPos-sumNeg\n",
    "print(difTotal)"
   ]
  },
  {
   "cell_type": "markdown",
   "id": "3e21947e",
   "metadata": {},
   "source": [
    "25. Crea una función que cuente el número de caracteres en una cadena de texto dada."
   ]
  },
  {
   "cell_type": "code",
   "execution_count": 212,
   "id": "1589c973",
   "metadata": {},
   "outputs": [
    {
     "data": {
      "text/plain": [
       "21"
      ]
     },
     "execution_count": 212,
     "metadata": {},
     "output_type": "execute_result"
    }
   ],
   "source": [
    "def contarChar(string):\n",
    "    return len(string)\n",
    "\n",
    "texto = 'Hola, me llamo Daniel'\n",
    "\n",
    "contarChar(texto)"
   ]
  },
  {
   "cell_type": "markdown",
   "id": "752959a9",
   "metadata": {},
   "source": [
    "26. Crea una función lambda que calcule el resto de la división entre dos números dados.  "
   ]
  },
  {
   "cell_type": "code",
   "execution_count": 213,
   "id": "29b6b733",
   "metadata": {},
   "outputs": [
    {
     "name": "stdout",
     "output_type": "stream",
     "text": [
      "El resto es: 0\n"
     ]
    }
   ],
   "source": [
    "#Entradas desde Consola (no funciona en .ipynb)\n",
    "numA = int(input(\"Introduce un número:\"))\n",
    "numB = int(input(\"Introduce otro número:\"))\n",
    "\n",
    "#Función lambda, recibe dos inputs y gestiona la operación\n",
    "restoDivision = (lambda numeroA, numeroB: numeroA%numeroB)\n",
    "\n",
    "print(\"El resto es:\", restoDivision(numA,numB))"
   ]
  },
  {
   "cell_type": "markdown",
   "id": "b2bd538d",
   "metadata": {},
   "source": [
    "27. Crea una función que calcule el promedio de una lista de números."
   ]
  },
  {
   "cell_type": "code",
   "execution_count": 214,
   "id": "302f4453",
   "metadata": {},
   "outputs": [
    {
     "data": {
      "text/plain": [
       "5.0"
      ]
     },
     "execution_count": 214,
     "metadata": {},
     "output_type": "execute_result"
    }
   ],
   "source": [
    "lista = [0,1,2,3,4,5,6,7,8,9,10]\n",
    "\n",
    "def promedioNumeros(listaArray):\n",
    "    return sum(listaArray)/len(listaArray)\n",
    "\n",
    "promedioNumeros(lista)"
   ]
  },
  {
   "cell_type": "markdown",
   "id": "621b7669",
   "metadata": {},
   "source": [
    "28. Crea una función que busque y devuelva el primer elemento duplicado en una lista dada."
   ]
  },
  {
   "cell_type": "code",
   "execution_count": 122,
   "id": "a3e6c4ba",
   "metadata": {},
   "outputs": [
    {
     "name": "stdout",
     "output_type": "stream",
     "text": [
      "manzana\n"
     ]
    }
   ],
   "source": [
    "elementos = [42, \"manzana\", 3.14, True, \"mesa\", 7, \"libro\", \"manzana\", 42, \"silla\"]\n",
    "\n",
    "vistos = set()\n",
    "duplicado = None\n",
    "\n",
    "for revisado in elementos:\n",
    "    if revisado in vistos:\n",
    "        duplicado = revisado\n",
    "        break\n",
    "    vistos.add(revisado)\n",
    "\n",
    "print(duplicado)\n",
    "\n"
   ]
  },
  {
   "cell_type": "markdown",
   "id": "c374911a",
   "metadata": {},
   "source": [
    "29. Crea una función que convierta una variable en una cadena de texto y enmascare todos los caracteres con el carácter '#' excepto los últimos cuatro."
   ]
  },
  {
   "cell_type": "code",
   "execution_count": null,
   "id": "39fd6f3b",
   "metadata": {},
   "outputs": [
    {
     "name": "stdout",
     "output_type": "stream",
     "text": [
      "El resultado con la función más pro es: #######2gg2\n",
      "El resultado con la función de tirar por casa es: #######2gg2\n"
     ]
    }
   ],
   "source": [
    "#Hasta sacar los 4 últimos digitos he podido, pero queria probar con replace y al final he tirado de GPT para hacer esto ( \"#\"*(len(a)-4) + )\n",
    "\n",
    "#Se podría decir que aquí he hecho yo el 80% y la IA el otro 20% por el comentario de arriba\n",
    "#Aunque la solución aportada por GPT la había barajado previamente, intentaba no crear yo los # y quería sustituirlos.\n",
    "def enmascareison(variableTo: any) -> str:\n",
    "    textInput = str(variableTo)\n",
    "    return (lambda a: \"#\"*(len(a)-4) + a[len(a)-4:]  )(textInput)\n",
    "\n",
    "#Este método lo he realizado yo, ya que no se pide lambda en el ejercicio y la funcionalidad es la misma\n",
    "#¿Que hago? Es sencillo, divido la frase por la parte que necesito y creo dos partes.\n",
    "#La primera parte hago replace del valor de i, habiendo sacado la longitud previamente y restandole las posiciones\n",
    "#que no quiero reemplazar, luego uno la frase nuevamente y resuelto. \n",
    "def funcionenmascara(variableTo: any) -> str:\n",
    "    textInput =str(variableTo) #Transformor ANY to Str\n",
    "    longitud = len(textInput)  #Calculo Long\n",
    "    parteA = textInput[:longitud-4] #Parte a susituir\n",
    "    parteB = textInput[longitud-4:] #Parte a mantener\n",
    "\n",
    "    for i in range(longitud-4):\n",
    "        parteA = parteA.replace(parteA[i], \"#\") #Reemplazamos toda la parte a sustituir por #\n",
    "\n",
    "    return parteA+parteB #Juntamos nuevamente las dos partes\n",
    "\n",
    "quieroLlorar  = enmascareison(\"weg2fgg2gg2\")\n",
    "quieroLlorar2 = funcionenmascara(\"weg2fgg2gg2\")\n",
    "print (f\"El resultado con la función más pro es: {quieroLlorar}\")\n",
    "print (f\"El resultado con la función de tirar por casa es: {quieroLlorar}\")"
   ]
  },
  {
   "cell_type": "markdown",
   "id": "71f99c4f",
   "metadata": {},
   "source": [
    "30. Crea una función que determine si dos palabras son anagramas, es decir, si están formadas por las mismas letras pero en diferente orden."
   ]
  },
  {
   "cell_type": "code",
   "execution_count": 215,
   "id": "2bf16569",
   "metadata": {},
   "outputs": [
    {
     "name": "stdout",
     "output_type": "stream",
     "text": [
      "Las dos palabras son anagramas\n"
     ]
    }
   ],
   "source": [
    "palabraA = \"caracol\"\n",
    "palabraB = \"locarac\"\n",
    "\n",
    "def anagramaAmargana(strA: str,strB:str) -> str:\n",
    "    if strA.lower() == strB.lower()[::-1]:\n",
    "        return \"Las dos palabras son anagramas\"\n",
    "    else:\n",
    "        return \"Las dos palabras son distintas\"\n",
    "    \n",
    "print(anagramaAmargana(palabraA,palabraB))\n"
   ]
  },
  {
   "cell_type": "markdown",
   "id": "56d61c28",
   "metadata": {},
   "source": [
    "31. Crea una función que solicite al usuario ingresar una lista de nombres y luego un nombre para buscar en esa lista. Si el nombre está en la lista, imprime un mensaje indicando que fue encontrado; de lo contrario, lanza una excepción."
   ]
  },
  {
   "cell_type": "code",
   "execution_count": 14,
   "id": "e5f24d4b",
   "metadata": {},
   "outputs": [
    {
     "name": "stdout",
     "output_type": "stream",
     "text": [
      "Los usuarios introducidos son:  ['Nrgnerger', 'Sdvwoewwe', 'Wfewefwef', 'Daniel', 'Daniel']\n",
      "El nombre 'Daniel' está en la lista.\n"
     ]
    }
   ],
   "source": [
    "def defineAndFind() -> str:\n",
    "\n",
    "    listaUsers = []\n",
    "    nameUser = \"\"\n",
    "\n",
    "    while nameUser.lower() != \"fin\":\n",
    "        try:\n",
    "            nameUser =  str(input(\"Buenos días, inserta nombres y termina con la palabra 'fin':\"))\n",
    "        except ValueError as e:\n",
    "            print(\"Error: Tipo de dato no compatible: \", e)\n",
    "        except Exception as e:\n",
    "            print(\"Ocurrió un error inesperado: \", e)\n",
    "        else:\n",
    "            if ((nameUser.lower() != \"fin\") and (nameUser != \"\") and (nameUser.isalpha()) ):\n",
    "                listaUsers.append(nameUser.lower().capitalize())\n",
    "\n",
    "    nameFilter = str(input(\"Introduce el nombre a buscar: \"))\n",
    "    print(\"Los usuarios introducidos son: \", listaUsers)\n",
    "    if nameFilter.lower().capitalize() in listaUsers:\n",
    "        return f\"El nombre '{nameFilter.capitalize()}' está en la lista.\"\n",
    "    else:\n",
    "        return f\"El nombre '{nameFilter.capitalize()}' no está en la lista.\"\n",
    "\n",
    "prueba = defineAndFind()\n",
    "print(prueba)\n",
    "\n",
    "\n",
    "\n",
    "\n"
   ]
  },
  {
   "cell_type": "markdown",
   "id": "cce2c486",
   "metadata": {},
   "source": [
    "32. Crea una función que tome un nombre completo y una lista de empleados, busque el nombre en la lista y devuelva el puesto del empleado si se encuentra; de lo contrario, devuelve un mensaje indicando que la persona no trabaja aquí."
   ]
  },
  {
   "cell_type": "code",
   "execution_count": 31,
   "id": "e03873ea",
   "metadata": {},
   "outputs": [
    {
     "name": "stdout",
     "output_type": "stream",
     "text": [
      "El trabajador Dani Meco trabaja aquí como Programador de Automatismos Industriales.\n"
     ]
    }
   ],
   "source": [
    "empleados = [\n",
    "    {\"nombre\": \"Ana Gómez\"      , \"puesto\": \"Gerente de Ventas\"},\n",
    "    {\"nombre\": \"Carlos Ruiz\"    , \"puesto\": \"Técnico de Mantenimiento\"},\n",
    "    {\"nombre\": \"Lucía Pérez\"    , \"puesto\": \"Administrativa\"},\n",
    "    {\"nombre\": \"Dani Meco\"      , \"puesto\": \"Programador de Automatismos Industriales\"},\n",
    "    {\"nombre\": \"Marta López\"    , \"puesto\": \"Responsable de Recursos Humanos\"},\n",
    "    {\"nombre\": \"Jorge Torres\"   , \"puesto\": \"Diseñador Industrial\"},\n",
    "    {\"nombre\": \"Laura Sánchez\"  , \"puesto\": \"Contable\"},\n",
    "    {\"nombre\": \"Sergio Díaz\"    , \"puesto\": \"Ingeniero de Producción\"},\n",
    "    {\"nombre\": \"Beatriz Romero\" , \"puesto\": \"Supervisora de Calidad\"},\n",
    "    {\"nombre\": \"Raúl Navarro\"   , \"puesto\": \"Logística y Almacén\"}\n",
    "]\n",
    "\n",
    "nombreCompleto = \"Dani Meco\"\n",
    "\n",
    "def busqEmpleado(name:str, listaEmpl: list) -> str:\n",
    "    return next((e for e in empleados if e[\"nombre\"] == name), \"El trabajador no trabaja aquí\")\n",
    "\n",
    "resultadoBusqueda = busqEmpleado(\"Dani Meco\", empleados)\n",
    "\n",
    "print(f\"El trabajador {resultadoBusqueda['nombre']} trabaja aquí como {resultadoBusqueda['puesto']}.\")\n",
    "    \n",
    "    \n",
    "    "
   ]
  },
  {
   "cell_type": "markdown",
   "id": "5e4b21e3",
   "metadata": {},
   "source": [
    "33. Crea una función lambda que sume elementos correspondientes de dos listas dadas."
   ]
  },
  {
   "cell_type": "code",
   "execution_count": 43,
   "id": "ca249254",
   "metadata": {},
   "outputs": [
    {
     "name": "stdout",
     "output_type": "stream",
     "text": [
      "[10, 12, 27, 40, 30, 40, 52, 63, 75, 87, 3, 15, 30, 43, 59, 73, 87, 97, 105, 119]\n"
     ]
    }
   ],
   "source": [
    "listaA = [3, 8, 15, 22, 5, 11, 19, 27, 34, 40, 2, 9, 17, 23, 31, 38, 45, 49, 52, 60]\n",
    "listaB = [7, 4, 12, 18, 25, 29, 33, 36, 41, 47, 1, 6, 13, 20, 28, 35, 42, 48, 53, 59]\n",
    "\n",
    "sumaListas = list(map(lambda a,b: a+b,listaA,listaB))\n",
    "\n",
    "print(sumaListas)"
   ]
  },
  {
   "cell_type": "markdown",
   "id": "2d538375",
   "metadata": {},
   "source": [
    "34. Crea la clase Arbol\n",
    "\n",
    "            Define un árbol genérico con un tronco y ramas como atributos.\n",
    "        Métodos disponibles: crecer_tronco, nueva_rama, crecer_ramas, quitar_rama, info_arbol.\n",
    "        Código a seguir:\n",
    "\n",
    "          -  Inicializar un árbol con un tronco de longitud 1 y una lista vacía de ramas.\n",
    "          -  Implementar el método crecer_tronco para aumentar la longitud del tronco en una unidad.\n",
    "          -  Implementar el método nueva_rama para agregar una nueva rama de longitud 1 a la lista de ramas.\n",
    "          -  Implementar el método crecer_ramas para aumentar en una unidad la longitud de todas las ramas existentes.\n",
    "          -  Implementar el método quitar_rama para eliminar una rama en una posición específica.\n",
    "            Implementar el método info_arbol para devolver información sobre la longitud del tronco, el número de ramas y sus longitudes.\n",
    "\n",
    "        Caso de uso:\n",
    "                a. Crear un árbol.\n",
    "                b. Hacer crecer el tronco una unidad.\n",
    "                c. Añadir una nueva rama.\n",
    "                d. Hacer crecer todas las ramas una unidad.\n",
    "                e. Añadir dos nuevas ramas.\n",
    "                f. Retirar la rama situada en la posición 2.\n",
    "                g. Obtener información sobre el árbol."
   ]
  },
  {
   "cell_type": "code",
   "execution_count": 58,
   "id": "3628c4b0",
   "metadata": {},
   "outputs": [
    {
     "name": "stdout",
     "output_type": "stream",
     "text": [
      "El arbol tiene una longitud de 2 troncos y [2, 1] ramas.\n"
     ]
    }
   ],
   "source": [
    "class Arbol:\n",
    "    def __init__(self):\n",
    "        self.tronco = 1\n",
    "        self.ramas = []\n",
    "        return\n",
    "\n",
    "    def crecer_tronco(self):\n",
    "        self.tronco +=1\n",
    "        return self.tronco\n",
    "    \n",
    "    def nueva_rama(self):\n",
    "        return self.ramas.append(1)\n",
    "    \n",
    "    def crecer_ramas(self):\n",
    "        for i in range(0,len(self.ramas)):\n",
    "            self.ramas[i]+=1\n",
    "        return self.ramas\n",
    "    \n",
    "    def quitar_ramas(self, pos: int):\n",
    "        self.ramas.pop(pos)\n",
    "        return self.ramas\n",
    "    \n",
    "    def info_arbol(self):\n",
    "        return print(f\"El arbol tiene una longitud de {miArbol.tronco} troncos y {miArbol.ramas} ramas.\")\n",
    "    \n",
    "\n",
    "#Caso de uso:\n",
    "#a. Crear un árbol.\n",
    "miArbol = Arbol()\n",
    "\n",
    "#b. Hacer crecer el tronco una unidad.\n",
    "miArbol.crecer_tronco()\n",
    "\n",
    "#c. Añadir una nueva rama.\n",
    "miArbol.nueva_rama()\n",
    "\n",
    "#d. Hacer crecer todas las ramas una unidad.\n",
    "miArbol.crecer_ramas()\n",
    "\n",
    "#e. Añadir dos nuevas ramas.\n",
    "miArbol.nueva_rama()\n",
    "miArbol.nueva_rama()\n",
    "\n",
    "#f. Retirar la rama situada en la posición 2.\n",
    "miArbol.quitar_ramas(2)\n",
    "\n",
    "#g. Obtener información sobre el árbol. \n",
    "miArbol.info_arbol()"
   ]
  },
  {
   "cell_type": "markdown",
   "id": "4f85e10d",
   "metadata": {},
   "source": [
    "35. Crea la clase UsuarioBanco\n",
    "        Representa a un usuario de un banco con su nombre, saldo y si tiene o no cuenta corriente.\n",
    "        Métodos: retirar_dinero, transferir_dinero, agregar_dinero.\n",
    "        Código a seguir:\n",
    "\n",
    "            Inicializar un usuario con nombre, saldo y un indicador (True o False) de cuenta corriente.\n",
    "            Implementar retirar_dinero para sustraer dinero del saldo, lanzando un error si no es posible.\n",
    "            Implementar transferir_dinero para transferir dinero desde otro usuario, lanzando un error en caso de fallo.\n",
    "            Implementar agregar_dinero para aumentar el saldo del usuario.\n",
    "\n",
    "        Caso de uso:\n",
    "                a. Crear dos usuarios: \"Alicia\" con saldo inicial de 100 y \"Bob\" con saldo inicial de 50, ambos con cuenta corriente.\n",
    "                b. Agregar 20 unidades al saldo de Bob.\n",
    "                c. Transferir 80 unidades de Bob a Alicia.\n",
    "                d. Retirar 50 unidades del saldo de Alicia."
   ]
  },
  {
   "cell_type": "code",
   "execution_count": 57,
   "id": "288faa38",
   "metadata": {},
   "outputs": [
    {
     "name": "stdout",
     "output_type": "stream",
     "text": [
      "Se ha ingresado la cantidad de 20€, actualmente dispones de 70€. ¡Muy bien Bob, Vas en buen camino!\n",
      "No es posible realizar la transferencia... ¿a donde vas Bob?, tienes 70€ y la cantidad que quieres transferir a Alicia es 80€.\n",
      "Se ha retirado 50€, quedan 50€ en la cuenta bancaria. Alicia, tu verás que haces...\n"
     ]
    }
   ],
   "source": [
    "class UsuarioBanco:\n",
    "    def __init__(self, nombre: str, saldo: int, cuentaCorriente: bool):\n",
    "        self.nombre = nombre\n",
    "        self.saldo = saldo\n",
    "        self.cuentaCorriente = cuentaCorriente\n",
    "        return\n",
    "\n",
    "    def retirar_dinero(self, cantidad:int):\n",
    "        if self.saldo < cantidad:\n",
    "            return print(f\"{self.nombre} No es posible retirar la cantidad de dinero, el saldo es {self.saldo}€ y la cantidad a retirar es mayor que el saldo, siendo esta {cantidad}€.\")\n",
    "        else:\n",
    "            self.saldo -= cantidad\n",
    "        return print(f\"Se ha retirado {cantidad}€, quedan {self.saldo}€ en la cuenta bancaria. {self.nombre}, tu verás que haces...\")\n",
    "    \n",
    "    def transferir_dinero(self, cantidad: int, usuarioDestino: \"UsuarioBanco\"):\n",
    "        if self.saldo < cantidad:\n",
    "             return print(f\"No es posible realizar la transferencia... ¿a donde vas {self.nombre}?, tienes {self.saldo}€ y la cantidad que quieres transferir a {usuarioDestino.nombre} es {cantidad}€.\")\n",
    "        else: \n",
    "            self.saldo -= cantidad\n",
    "            usuarioDestino.saldo += cantidad\n",
    "        return print(f\"Se ha transferido {cantidad}€ de {self.nombre} a {usuarioDestino.nombre}.\")\n",
    "    \n",
    "    def agregar_dinero(self, cantidad:int):\n",
    "        self.saldo += cantidad\n",
    "        return print(f\"Se ha ingresado la cantidad de {cantidad}€, actualmente dispones de {self.saldo}€. ¡Muy bien {self.nombre}, Vas en buen camino!\")\n",
    "    \n",
    "#Caso de uso:\n",
    "#a. Crear dos usuarios: \"Alicia\" con saldo inicial de 100 y \"Bob\" con saldo inicial de 50, ambos con cuenta corriente.\n",
    "alicia = UsuarioBanco(\"Alicia\", 100, True)\n",
    "bob = UsuarioBanco(\"Bob\", 50, True)\n",
    "\n",
    "#b. Agregar 20 unidades al saldo de Bob.\n",
    "bob.agregar_dinero(20)\n",
    "\n",
    "#c. Transferir 80 unidades de Bob a Alicia.\n",
    "bob.transferir_dinero(80, alicia)\n",
    "\n",
    "#d. Retirar 50 unidades del saldo de Alicia. \n",
    "alicia.retirar_dinero(50)\n"
   ]
  },
  {
   "cell_type": "markdown",
   "id": "8070950e",
   "metadata": {},
   "source": [
    "36. Crea una función llamada procesar_texto\n",
    "        Procesa un texto según la opción especificada: contar_palabras, reemplazar_palabras o eliminar_palabra.\n",
    "        Código a seguir:\n",
    "\n",
    "            Crear una función contar_palabras que cuente el número de veces que aparece cada palabra en el texto y devuelva un diccionario.\n",
    "            Crear una función reemplazar_palabras para sustituir una palabra_original por una palabra_nueva en el texto y devolver el texto modificado.\n",
    "            Crear una función eliminar_palabra que elimine una palabra del texto y devuelva el texto sin ella.\n",
    "            Crear la función procesar_texto que reciba un texto, una opción (\"contar\", \"reemplazar\", \"eliminar\") y un número variable de argumentos según la opción elegida.\n",
    "\n",
    "        Caso de uso:\n",
    "            Verificar el funcionamiento completo de procesar_texto."
   ]
  },
  {
   "cell_type": "code",
   "execution_count": null,
   "id": "cd541da4",
   "metadata": {},
   "outputs": [
    {
     "name": "stdout",
     "output_type": "stream",
     "text": [
      "es si no haces\n"
     ]
    }
   ],
   "source": [
    "#---------Función: Contar Palabras-----------------\n",
    "def contar_palabras(texto: str) -> dict:\n",
    "    textoSeparado = texto.lower().replace(\".\",\"\").replace(\",\",\"\").split(\" \")\n",
    "    registro = {}\n",
    "\n",
    "    for palabra in textoSeparado:\n",
    "        registro[palabra] = registro.get(palabra, 0) + 1 \n",
    "    return print(registro)\n",
    "\n",
    "#---------Función: Reemplazar Palabras-------------\n",
    "def reemplazar_palabras(texto: str, palabraOut: str, palabraIn: str) -> str:\n",
    "    textoSeparado = texto.lower().replace(\".\",\"\").replace(\",\",\"\").split(\" \")\n",
    "    lista = []\n",
    "\n",
    "    for palabra in textoSeparado:\n",
    "        if (palabra == palabraOut):\n",
    "            lista.append(palabraIn)\n",
    "        else: \n",
    "            lista.append(palabra)\n",
    "    \n",
    "    return print(\" \".join(lista))\n",
    "\n",
    "#---------Función: Eliminar Palabras --------------\n",
    "def eliminar_palabra(texto: str, palabraOut: str) -> str:\n",
    "    textoSeparado = texto.lower().replace(\".\",\"\").replace(\",\",\"\").split(\" \")\n",
    "    lista = []\n",
    "\n",
    "    for palabra in textoSeparado:\n",
    "        if (palabra != palabraOut):\n",
    "            lista.append(palabra)\n",
    "    \n",
    "    return print(\" \".join(lista))\n",
    "\n",
    "#---------Función: Procesar Texto -----------------\n",
    "def procesar_texto(texto: str, funcion: str, *args):\n",
    "\n",
    "    if funcion == \"contar\":\n",
    "        return contar_palabras(texto)\n",
    "    elif funcion == \"reemplazar\":\n",
    "        return reemplazar_palabras(texto, args[0], args[1])\n",
    "    elif funcion == \"eliminar\":\n",
    "        return eliminar_palabra(texto, args[0])\n",
    "    else:\n",
    "        print(f\"La función {funcion} no existe, utiliza 'contar', 'reemplazar' o 'eliminar'\")\n",
    "    return\n",
    "    \n",
    "#----------Selección Opción ---------------\n",
    "function = \"eliminar\"\n",
    "    \n",
    "#------ Parametrización Opciones ----------\n",
    "if function == \"reemplazar\":\n",
    "    argItem = (\"nada\", \"algo\")\n",
    "\n",
    "elif function == \"eliminar\":\n",
    "    argItem = (\"nada\",) #hace falta la coma...\n",
    "\n",
    "#------ LLamada función -------------------\n",
    "prueba = procesar_texto(\"Nada es nada si no haces nada.\", function, *argItem )\n"
   ]
  },
  {
   "cell_type": "markdown",
   "id": "ae2f799a",
   "metadata": {},
   "source": [
    "37. Genera un programa que nos indique si es de noche, de día o de tarde según la hora proporcionada por el usuario."
   ]
  },
  {
   "cell_type": "code",
   "execution_count": 153,
   "id": "4eea6b63",
   "metadata": {},
   "outputs": [
    {
     "name": "stdout",
     "output_type": "stream",
     "text": [
      "Es por la noche\n"
     ]
    }
   ],
   "source": [
    "hora = str(input(\"Introduce la hora en formato String hh:mm:ss:\"))\n",
    "\n",
    "hora = hora.split(\":\") #Separamos la hora en Horas, minutos y segundos\n",
    "\n",
    "horaInt = int(hora[0]) #Cogemos el apartado horas y lo convertimos a Int\n",
    "\n",
    "if (horaInt >= 6 and horaInt<=12):\n",
    "    print(\"Es por la mañana\")\n",
    "elif (horaInt >= 13 and horaInt<=20):\n",
    "    print(\"Es por la tarde\")\n",
    "elif (horaInt >= 21 or horaInt<=5):\n",
    "    print(\"Es por la noche\")"
   ]
  },
  {
   "cell_type": "markdown",
   "id": "86e0a850",
   "metadata": {},
   "source": [
    "38. Escribe un programa que determine qué calificación en texto tiene un alumno según su calificación numérica.\n",
    "        Reglas:\n",
    "                0 - 69: insuficiente\n",
    "                70 - 79: bien\n",
    "                80 - 89: muy bien\n",
    "                90 - 100: excelente"
   ]
  },
  {
   "cell_type": "code",
   "execution_count": 168,
   "id": "81ff3815",
   "metadata": {},
   "outputs": [
    {
     "name": "stdout",
     "output_type": "stream",
     "text": [
      "Excelente\n"
     ]
    }
   ],
   "source": [
    "\n",
    "try:\n",
    "    calificacionAlumno = int(input(\"Que nota ha sacado el alumno?\"))\n",
    "except ValueError as e:\n",
    "    print(f\"El formato no es correcto: {e} \")\n",
    "else:\n",
    "    if 0 <= calificacionAlumno <= 69:\n",
    "        print(\"Insuficiente\")\n",
    "    elif 70 <= calificacionAlumno <= 79:\n",
    "        print(\"Bien\")\n",
    "    elif 80 <= calificacionAlumno <= 89:\n",
    "        print(\"Muy bien\")\n",
    "    elif 90 <= calificacionAlumno <= 100:\n",
    "        print(\"Excelente\")\n"
   ]
  },
  {
   "cell_type": "markdown",
   "id": "71bb3191",
   "metadata": {},
   "source": [
    "39. Escribe una función que tome dos parámetros: figura (una cadena que puede ser \"rectangulo\", \"circulo\" o \"triangulo\") y datos (una tupla con los datos necesarios para calcular el área de la figura)."
   ]
  },
  {
   "cell_type": "code",
   "execution_count": 186,
   "id": "5aedd7b1",
   "metadata": {},
   "outputs": [
    {
     "name": "stdout",
     "output_type": "stream",
     "text": [
      "El área del triángulo es (base*altura)/2, (5×10)/2 = 25.0.\n"
     ]
    }
   ],
   "source": [
    "import math\n",
    "\n",
    "def calculoFigura(figura: str, **kwargs):\n",
    "    if figura == \"rectangulo\":\n",
    "        return print(f\"El área del rectángulo es base*altura, {kwargs[\"base\"]}x{kwargs[\"altura\"]}={kwargs[\"base\"]*kwargs[\"altura\"]}.\")\n",
    "    elif figura == \"circulo\":\n",
    "        return print(f\"El área del círculo es π*r², {math.pi:.2f}x{kwargs[\"radio\"]}²={math.pi*(kwargs[\"radio\"]**2):.2f}.\")\n",
    "    elif figura == \"triangulo\":\n",
    "        return print(f\"El área del triángulo es (base*altura)/2, ({kwargs['base']}×{kwargs['altura']})/2 = {(kwargs['base'] * kwargs['altura'])/2}.\")\n",
    "#-----------Parametrización\n",
    "argItem2 = {\"base\": 5, \"altura\": 10, \"radio\": 20,}\n",
    "\n",
    "#----------Selección Opción ---------------\n",
    "function = \"triangulo\"  #circulo , triangulo, rectangulo\n",
    "    \n",
    "#------ LLamada función -------------------\n",
    "prueba = calculoFigura(function.lower(), **argItem2 )\n"
   ]
  },
  {
   "cell_type": "markdown",
   "id": "1af4d6b4",
   "metadata": {},
   "source": [
    "40. Escribe un programa en Python que utilice condicionales para determinar el monto final de una compra en una tienda en línea, después de aplicar un descuento. El programa debe:\n",
    "    a. Solicitar al usuario el precio original de un artículo.\n",
    "    b. Preguntar si tiene un cupón de descuento (respuesta sí o no).\n",
    "    c. Si la respuesta es sí, solicitar el valor del cupón de descuento.\n",
    "    d. Aplicar el descuento al precio original, siempre que el valor del cupón sea válido (mayor a cero).\n",
    "    e. Mostrar el precio final de la compra, considerando o no el descuento.\n",
    "    f. Usar estructuras de control de flujo (if, elif, else) para llevar a cabo las acciones."
   ]
  },
  {
   "cell_type": "code",
   "execution_count": 196,
   "id": "650fcea7",
   "metadata": {},
   "outputs": [
    {
     "name": "stdout",
     "output_type": "stream",
     "text": [
      "El precio total de la compra asciende a 15.00, se ha aplicado un descuento del 50%.\n"
     ]
    }
   ],
   "source": [
    "#A. Preguntas\n",
    "precioArticulo = float(input(\"Por favor, introduce el precio del artículo:\"))\n",
    "cuponDescuento = str(input(\"Tienes un cupón descuento? y/n\"))\n",
    "if cuponDescuento == \"y\":\n",
    "    valorDescuento = int(input(\"Que % de descuento tiene el cupón?\"))\n",
    "    if valorDescuento > 0:\n",
    "        precioArticulo = precioArticulo - (precioArticulo*(valorDescuento/100))\n",
    "\n",
    "if cuponDescuento == \"y\":\n",
    "    print(f\"El precio total de la compra asciende a {precioArticulo:.2f}, se ha aplicado un descuento del {valorDescuento}%.\")\n",
    "else:\n",
    "    print(f\"El precio total de la compra asciende a {precioArticulo:.2f}\")"
   ]
  },
  {
   "cell_type": "code",
   "execution_count": null,
   "id": "b6ca2c63",
   "metadata": {},
   "outputs": [],
   "source": []
  }
 ],
 "metadata": {
  "kernelspec": {
   "display_name": "base",
   "language": "python",
   "name": "python3"
  },
  "language_info": {
   "codemirror_mode": {
    "name": "ipython",
    "version": 3
   },
   "file_extension": ".py",
   "mimetype": "text/x-python",
   "name": "python",
   "nbconvert_exporter": "python",
   "pygments_lexer": "ipython3",
   "version": "3.13.5"
  }
 },
 "nbformat": 4,
 "nbformat_minor": 5
}
